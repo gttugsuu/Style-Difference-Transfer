{
 "cells": [
  {
   "cell_type": "code",
   "execution_count": 1,
   "metadata": {},
   "outputs": [],
   "source": [
    "# %load main.py\n",
    "import argparse\n",
    "import time\n",
    "import os\n",
    "import os.path\n",
    "\n",
    "import torch\n",
    "from torch.autograd import Variable\n",
    "import torch.nn as nn\n",
    "import torch.nn.functional as F\n",
    "from torch import optim\n",
    "\n",
    "import torchvision\n",
    "from torchvision import transforms\n",
    "\n",
    "import PIL\n",
    "from PIL import Image\n",
    "import matplotlib.pyplot as plt\n",
    "from collections import OrderedDict\n",
    "from utility.utility import postp, GramMatrix, GramMSELoss, load_images, save_images, make_folders\n",
    "from utility.vgg_network import VGG"
   ]
  },
  {
   "cell_type": "code",
   "execution_count": 2,
   "metadata": {},
   "outputs": [
    {
     "name": "stdout",
     "output_type": "stream",
     "text": [
      "Using device:  cuda:0\n"
     ]
    }
   ],
   "source": [
    "# style weights\n",
    "sw1=1\n",
    "sw2=1\n",
    "sw3=1\n",
    "sw4=1\n",
    "sw5=1\n",
    "# Content weights\n",
    "cw1=0\n",
    "cw2=0\n",
    "cw3=0\n",
    "cw4=1e5\n",
    "cw5=0\n",
    "#############################################################################\n",
    "# Get image paths and names\n",
    "# Style 1\n",
    "style_dir1  = os.path.dirname('../input/font_contents/serif/A/Milonga-Regular.png')\n",
    "style_name1 = os.path.basename('../input/font_contents/serif/A/Milonga-Regular.png')\n",
    "# Style 2\n",
    "style_dir2  = os.path.dirname('../input/font_contents/serif_rmv/A/Milonga-Regular.png')\n",
    "style_name2 = os.path.basename('../input/font_contents/serif_rmv/A/Milonga-Regular.png')\n",
    "# Content\n",
    "content_dir  = os.path.dirname('../input/font_contents/AlegreyaSans-Light/A.png')\n",
    "content_name = os.path.basename('../input/font_contents/AlegreyaSans-Light/A.png')\n",
    "\n",
    "# Cuda device\n",
    "if torch.cuda.is_available:\n",
    "    device = 'cuda:0'\n",
    "else:\n",
    "    device = 'cpu'\n",
    "print(\"Using device: \", device)\n",
    "\n",
    "# Parameters\n",
    "alpha = 1\n",
    "beta = 1\n",
    "image_size = 256\n",
    "content_invert = 1\n",
    "style_invert = 1\n",
    "result_invert = content_invert\n",
    "\n",
    "# Get output path\n",
    "output_path = '../output_style_difference/'\n",
    "try:\n",
    "    os.mkdir(output_path)\n",
    "except:\n",
    "    pass\n",
    "output_path = output_path + content_name[:-4] + '_' + style_name1[:-4] + '_' + style_name2[:-4] + '/'"
   ]
  },
  {
   "cell_type": "code",
   "execution_count": 4,
   "metadata": {},
   "outputs": [],
   "source": [
    "# Get network\n",
    "vgg = VGG()\n",
    "vgg.load_state_dict(torch.load('../Models/vgg_conv.pth'))\n",
    "for param in vgg.parameters():\n",
    "    param.requires_grad = False\n",
    "if torch.cuda.is_available():\n",
    "    vgg.cuda()\n",
    "\n",
    "# Load images\n",
    "content_image = load_images(os.path.join(content_dir, content_name), image_size, device, content_invert)\n",
    "style_image1  = load_images(os.path.join(style_dir1,style_name1), image_size, device, style_invert)\n",
    "style_image2  = load_images(os.path.join(style_dir2,style_name2), image_size, device, style_invert)\n",
    "\n",
    "# Random input\n",
    "# opt_img = Variable(torch.randn(content_image.size()).type_as(content_image.data).to(device), requires_grad=True).to(device)\n",
    "# Content input\n",
    "opt_img = Variable(content_image.data.clone(), requires_grad=True)"
   ]
  },
  {
   "cell_type": "code",
   "execution_count": 5,
   "metadata": {},
   "outputs": [],
   "source": [
    "# Define layers, loss functions, weights and compute optimization targets\n",
    "# Style layers\n",
    "style_layers = ['r11','r21','r31','r41','r51'] \n",
    "style_weights = [sw1*1e3/(64**2), sw2*1e3/(128**2), sw3*1e3/(256**2), sw4*1e3/(512**2), sw5*1e3/(512**2)]\n",
    "# Content layers\n",
    "content_layers = ['r42']\n",
    "content_weights = [cw4]\n",
    "# content_layers = ['r12','r22','r32','r42','r52']\n",
    "# content_weights = [args.cw1, args.cw2, args.cw3, args.cw4, args.cw5]\n",
    "\n",
    "loss_layers = style_layers + content_layers\n",
    "loss_functions = [GramMSELoss()] * len(style_layers) + [nn.MSELoss()] * len(content_layers)\n",
    "loss_functions = [loss_fn.to(device) for loss_fn in loss_functions]\n",
    "weights = style_weights + content_weights"
   ]
  },
  {
   "cell_type": "code",
   "execution_count": 17,
   "metadata": {},
   "outputs": [],
   "source": [
    "# Compute optimization targets\n",
    "### Gram matrix targets\n",
    "\n",
    "# Feature maps from style layers of the style image\n",
    "style1_fms_style = [A.detach() for A in vgg(style_image1, style_layers)]\n",
    "style2_fms_style = [A.detach() for A in vgg(style_image2, style_layers)]\n",
    "# Difference of feature maps\n",
    "style_fms_style  = [style1_fms_style[i] - style2_fms_style[i] for i in range(len(style1_fms_style))]\n",
    "# Gram matrix of difference feature maps\n",
    "gramm_style = [GramMatrix()(A) for A in style_fms_style]\n",
    "# Feature maps from style layers of the content image\n",
    "content_fms_style = [A.detach() for A in vgg(content_image, style_layers)]\n",
    "\n",
    "\n",
    "# Feature responces of 1st style\n",
    "fm_style1 = [A.detach() for A in vgg(style_image1, content_layers)]\n",
    "# Feature responces of 2nd style\n",
    "fm_style2 = [A.detach() for A in vgg(style_image2, content_layers)]\n",
    "style_content = []\n",
    "for i in range(len(fm_style1)):\n",
    "    style_content.append((fm_style2[i] - fm_style1[i]))\n",
    "### Content targets\n",
    "# Feature responces of content\n",
    "fm_content = [A.detach() for A in vgg(content_image, content_layers)]\n",
    "# Gram matrices of content\n",
    "gramm_content  = [GramMatrix()(A).detach() for A in vgg(content_image, style_layers)]\n",
    "\n",
    "# Run style transfer\n",
    "make_folders(output_path)"
   ]
  },
  {
   "cell_type": "code",
   "execution_count": 10,
   "metadata": {},
   "outputs": [],
   "source": [
    "max_iter = 1200\n",
    "show_iter = 100\n",
    "optimizer = optim.LBFGS([opt_img])\n",
    "n_iter=[0]\n",
    "loss_list = []\n",
    "c_loss = []\n",
    "s_loss = []"
   ]
  },
  {
   "cell_type": "code",
   "execution_count": 20,
   "metadata": {},
   "outputs": [],
   "source": [
    "optimizer.zero_grad()\n",
    "out = vgg(opt_img, loss_layers)\n",
    "content_layer_losses = []\n",
    "style_layer_losses  = []\n",
    "\n",
    "opt_fms_style = []\n",
    "opt_fms_content = []\n",
    "# Divide between style feature maps and content feature maps\n",
    "for i, A in enumerate(out):\n",
    "    if i < len(gramm_style):\n",
    "        opt_fms_style.append(A)\n",
    "    else:\n",
    "        opt_fms_content.append(A)"
   ]
  },
  {
   "cell_type": "code",
   "execution_count": 21,
   "metadata": {},
   "outputs": [],
   "source": [
    "# Difference between feature maps on style layers\n",
    "diff_fms_style = [content_fms_style[i] - opt_fms_style[i] for i in range(len(content_fms_style))]\n",
    "gramm_diff = [GramMatrix()(A) for A in diff_fms_style]"
   ]
  },
  {
   "cell_type": "code",
   "execution_count": null,
   "metadata": {},
   "outputs": [],
   "source": [
    "a = gramm_diff[0]\n",
    "b = gramm_style[0]\n",
    "nn.MSELoss(a,b)"
   ]
  },
  {
   "cell_type": "code",
   "execution_count": 22,
   "metadata": {},
   "outputs": [],
   "source": [
    "# Difference between gram matrix of feature map differences\n",
    "style_layer_losses = [style_weights[i]*(nn.MSELoss()(gramm_diff[i], gramm_style[i])) for i in range(len(gramm_diff))]\n",
    "\n",
    "# Difference between feature responces of content and optimized\n",
    "results_content = []\n",
    "for i in range(len(fm_content)):\n",
    "    results_content.append((fm_content[i] - opt_fms_content[i]))\n",
    "# Content loss between style_content and results\n",
    "for i in range(len(fm_content)):\n",
    "    content_layer_losses.append(content_weights[i]*(nn.MSELoss()(results_content[i], style_content[i])))"
   ]
  },
  {
   "cell_type": "code",
   "execution_count": 15,
   "metadata": {},
   "outputs": [
    {
     "name": "stdout",
     "output_type": "stream",
     "text": [
      "torch.Size([1, 64, 64])\n",
      "torch.Size([1, 128, 128])\n",
      "torch.Size([1, 256, 256])\n",
      "torch.Size([1, 512, 512])\n",
      "torch.Size([1, 512, 512])\n"
     ]
    }
   ],
   "source": [
    "for i in range(len(results_style)):\n",
    "    print(results_style[i].shape)"
   ]
  },
  {
   "cell_type": "code",
   "execution_count": 12,
   "metadata": {
    "scrolled": true
   },
   "outputs": [
    {
     "name": "stdout",
     "output_type": "stream",
     "text": [
      "Iteration: 0 \n",
      "Content loss: 2488124928.0 \n",
      "Style loss  : 7610064.5 \n",
      "Total loss  : 2495734784.0\n",
      "Iteration: 100 \n",
      "Content loss: 2375035136.0 \n",
      "Style loss  : 6546340.5 \n",
      "Total loss  : 2381581312.0\n",
      "Iteration: 200 \n",
      "Content loss: 2259005696.0 \n",
      "Style loss  : 5798837.5 \n",
      "Total loss  : 2264804608.0\n",
      "Iteration: 300 \n",
      "Content loss: 2201672960.0 \n",
      "Style loss  : 5446743.0 \n",
      "Total loss  : 2207119872.0\n",
      "Iteration: 400 \n",
      "Content loss: 2169997056.0 \n",
      "Style loss  : 5311504.0 \n",
      "Total loss  : 2175308544.0\n",
      "Iteration: 500 \n",
      "Content loss: 2153166336.0 \n",
      "Style loss  : 5214926.5 \n",
      "Total loss  : 2158381056.0\n",
      "Iteration: 600 \n",
      "Content loss: 2143861760.0 \n",
      "Style loss  : 5158906.0 \n",
      "Total loss  : 2149020672.0\n",
      "Iteration: 700 \n",
      "Content loss: 2136584320.0 \n",
      "Style loss  : 5123154.0 \n",
      "Total loss  : 2141707520.0\n",
      "Iteration: 800 \n",
      "Content loss: 2130641152.0 \n",
      "Style loss  : 5107080.5 \n",
      "Total loss  : 2135748224.0\n",
      "Iteration: 900 \n",
      "Content loss: 2125251712.0 \n",
      "Style loss  : 5076470.5 \n",
      "Total loss  : 2130328192.0\n",
      "Iteration: 1000 \n",
      "Content loss: 2121030528.0 \n",
      "Style loss  : 5065867.0 \n",
      "Total loss  : 2126096256.0\n",
      "Iteration: 1100 \n",
      "Content loss: 2117171840.0 \n",
      "Style loss  : 5044161.5 \n",
      "Total loss  : 2122215808.0\n",
      "Iteration: 1200 \n",
      "Content loss: 2113403520.0 \n",
      "Style loss  : 5039434.5 \n",
      "Total loss  : 2118442880.0\n"
     ]
    }
   ],
   "source": [
    "while n_iter[0] <= max_iter:\n",
    "\n",
    "    def closure():\n",
    "        optimizer.zero_grad()\n",
    "        out = vgg(opt_img, loss_layers)\n",
    "        content_layer_losses = []\n",
    "        style_layer_losses  = []\n",
    "        \n",
    "        opt_style = []\n",
    "        opt_content = []\n",
    "        # Divide between gram matrix and feature responce\n",
    "        for i, A in enumerate(out):\n",
    "            if i < len(style_targets):\n",
    "                opt_style.append(GramMatrix()(A))\n",
    "            else:\n",
    "                opt_content.append(A)\n",
    "\n",
    "        # Difference between the gram matrices of content and optimized\n",
    "        results_style = []\n",
    "        for i in range(len(gramm_content)):\n",
    "            results_style.append((gramm_content[i] - opt_style[i]))\n",
    "        # Difference between feature responces of content and optimized\n",
    "        results_content = []\n",
    "        for i in range(len(fm_content)):\n",
    "            results_content.append((fm_content[i] - opt_content[i]))\n",
    "        \n",
    "        # Style loss between style_target and results\n",
    "        for i in range(len(gramm_content)):\n",
    "            style_layer_losses.append(style_weights[i]*(nn.MSELoss()(results_style[i], style_targets[i])))\n",
    "        # Content loss between style_content and results\n",
    "        for i in range(len(fm_content)):\n",
    "            content_layer_losses.append(content_weights[i]*(nn.MSELoss()(results_content[i], style_content[i])))\n",
    "        \n",
    "        layer_losses = content_layer_losses + style_layer_losses\n",
    "#         layer_losses = content_layer_losses\n",
    "\n",
    "        content_loss = sum(content_layer_losses)\n",
    "        style_loss   = sum(style_layer_losses)\n",
    "\n",
    "        loss = sum(layer_losses)\n",
    "        loss.backward()\n",
    "        c_loss.append(content_loss)\n",
    "        s_loss.append(style_loss)\n",
    "        loss_list.append(loss)\n",
    "\n",
    "        #print loss\n",
    "        if n_iter[0]%show_iter == 0:\n",
    "            print('Iteration: {} \\nContent loss: {} \\nStyle loss  : {} \\nTotal loss  : {}'\n",
    "            .format(n_iter[0], content_loss.item(), style_loss.item(), loss.item()))\n",
    "\n",
    "            # Save loss graph\n",
    "            plt.plot(loss_list, label='Total loss')\n",
    "            plt.plot(c_loss, label='Content loss')\n",
    "            plt.plot(s_loss, label='Style loss')\n",
    "            plt.legend()\n",
    "            plt.savefig(output_path + 'loss_graph.jpg')\n",
    "            plt.close()\n",
    "            # Save optimized image\n",
    "            out_img = postp(opt_img.data[0].cpu().squeeze(), image_size, result_invert)\n",
    "            #out_img = PIL.ImageOps.invert(out_img)\n",
    "            out_img.save(output_path + 'outputs/{}.bmp'.format(n_iter[0]))\n",
    "        n_iter[0] += 1\n",
    "        return loss\n",
    "      \n",
    "    optimizer.step(closure)"
   ]
  },
  {
   "cell_type": "code",
   "execution_count": 13,
   "metadata": {},
   "outputs": [
    {
     "data": {
      "image/png": "[encoded data removed]",
      "text/plain": [
       "<PIL.Image.Image image mode=RGB size=256x256 at 0x7F0D4B482F28>"
      ]
     },
     "execution_count": 13,
     "metadata": {},
     "output_type": "execute_result"
    }
   ],
   "source": [
    "postp(opt_img.data[0].cpu().squeeze(), image_size, result_invert)"
   ]
  },
  {
   "cell_type": "code",
   "execution_count": 14,
   "metadata": {},
   "outputs": [],
   "source": [
    "# Save sum images\n",
    "save_images(content_image.data[0].cpu().squeeze(), opt_img.data[0].cpu().squeeze(), style_image1.data[0].cpu().squeeze(), style_image2.data[0].cpu().squeeze(), image_size, output_path, n_iter, content_invert, style_invert, result_invert)"
   ]
  }
 ],
 "metadata": {
  "kernelspec": {
   "display_name": "Python 3",
   "language": "python",
   "name": "python3"
  },
  "language_info": {
   "codemirror_mode": {
    "name": "ipython",
    "version": 3
   },
   "file_extension": ".py",
   "mimetype": "text/x-python",
   "name": "python",
   "nbconvert_exporter": "python",
   "pygments_lexer": "ipython3",
   "version": "3.6.6"
  }
 },
 "nbformat": 4,
 "nbformat_minor": 2
}
