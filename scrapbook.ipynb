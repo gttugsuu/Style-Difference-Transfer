{
 "cells": [
  {
   "cell_type": "code",
   "execution_count": 5,
   "metadata": {},
   "outputs": [],
   "source": [
    "# %load main.py\n",
    "import argparse\n",
    "import time\n",
    "import os\n",
    "import os.path\n",
    "\n",
    "import torch\n",
    "from torch.autograd import Variable\n",
    "import torch.nn as nn\n",
    "import torch.nn.functional as F\n",
    "from torch import optim\n",
    "\n",
    "import torchvision\n",
    "from torchvision import transforms\n",
    "\n",
    "import PIL\n",
    "from PIL import Image\n",
    "import matplotlib.pyplot as plt\n",
    "from collections import OrderedDict\n",
    "from utility.utility import postp, GramMatrix, GramMSELoss, load_images, save_images, make_folders\n",
    "from utility.vgg_network import VGG\n",
    "from utility.loss_fns import get_patches, divide_patches, weight_maker, get_style_patch_weights, mrf_loss_fn"
   ]
  },
  {
   "cell_type": "code",
   "execution_count": 2,
   "metadata": {},
   "outputs": [
    {
     "name": "stdout",
     "output_type": "stream",
     "text": [
      "Using device:  cuda:0\n"
     ]
    }
   ],
   "source": [
    "# style weights\n",
    "sw1=1\n",
    "sw2=1\n",
    "sw3=1\n",
    "sw4=1\n",
    "sw5=1\n",
    "# Content weights\n",
    "cw1=0\n",
    "cw2=0\n",
    "cw3=0\n",
    "cw4=1e5\n",
    "cw5=0\n",
    "#############################################################################\n",
    "# Get image paths and names\n",
    "# Style 1\n",
    "style_dir1  = os.path.dirname('../input/font_contents/serif/A/Milonga-Regular.png')\n",
    "style_name1 = os.path.basename('../input/font_contents/serif/A/Milonga-Regular.png')\n",
    "# Style 2\n",
    "style_dir2  = os.path.dirname('../input/font_contents/serif_rmv/A/Milonga-Regular.png')\n",
    "style_name2 = os.path.basename('../input/font_contents/serif_rmv/A/Milonga-Regular.png')\n",
    "# Content\n",
    "content_dir  = os.path.dirname('../input/font_contents/AlegreyaSans-Light/A.png')\n",
    "content_name = os.path.basename('../input/font_contents/AlegreyaSans-Light/A.png')\n",
    "\n",
    "# Cuda device\n",
    "if torch.cuda.is_available:\n",
    "    device = 'cuda:0'\n",
    "else:\n",
    "    device = 'cpu'\n",
    "print(\"Using device: \", device)\n",
    "\n",
    "# Parameters\n",
    "alpha = 1\n",
    "beta = 1\n",
    "image_size = 256\n",
    "content_invert = 1\n",
    "style_invert = 1\n",
    "result_invert = content_invert\n",
    "\n",
    "# Get output path\n",
    "output_path = '../output_style_difference/'\n",
    "try:\n",
    "    os.mkdir(output_path)\n",
    "except:\n",
    "    pass\n",
    "output_path = output_path + content_name[:-4] + '_' + style_name1[:-4] + '_' + style_name2[:-4] + '/'"
   ]
  },
  {
   "cell_type": "code",
   "execution_count": 3,
   "metadata": {},
   "outputs": [],
   "source": [
    "# Get network\n",
    "vgg = VGG()\n",
    "vgg.load_state_dict(torch.load('../Models/vgg_conv.pth'))\n",
    "for param in vgg.parameters():\n",
    "    param.requires_grad = False\n",
    "if torch.cuda.is_available():\n",
    "    vgg.cuda()\n",
    "\n",
    "# Load images\n",
    "content_image = load_images(os.path.join(content_dir, content_name), image_size, device, content_invert)\n",
    "style_image1  = load_images(os.path.join(style_dir1,style_name1), image_size, device, style_invert)\n",
    "style_image2  = load_images(os.path.join(style_dir2,style_name2), image_size, device, style_invert)\n",
    "\n",
    "# Random input\n",
    "# opt_img = Variable(torch.randn(content_image.size()).type_as(content_image.data).to(device), requires_grad=True).to(device)\n",
    "# Content input\n",
    "opt_img = Variable(content_image.data.clone(), requires_grad=True)"
   ]
  },
  {
   "cell_type": "code",
   "execution_count": 11,
   "metadata": {},
   "outputs": [],
   "source": [
    "mrf_layers = ['r31', 'r41']"
   ]
  },
  {
   "cell_type": "code",
   "execution_count": 58,
   "metadata": {},
   "outputs": [],
   "source": [
    "mrf_fms1 = [A.detach() for A in vgg(style_image1, mrf_layers)]\n",
    "style_patches_lists1, weight_list1 = get_style_patch_weights(mrf_fms1, device, k=5)"
   ]
  },
  {
   "cell_type": "code",
   "execution_count": 59,
   "metadata": {},
   "outputs": [],
   "source": [
    "mrf_fms2 = [A.detach() for A in vgg(style_image2, mrf_layers)]\n",
    "style_patches_lists2, weight_list2 = get_style_patch_weights(mrf_fms2, device, k=5)"
   ]
  },
  {
   "cell_type": "markdown",
   "metadata": {},
   "source": [
    "Finding and storing different patches only"
   ]
  },
  {
   "cell_type": "code",
   "execution_count": 63,
   "metadata": {},
   "outputs": [],
   "source": [
    "style1_different_patches = []\n",
    "style2_different_patches = []\n",
    "i = 0\n",
    "for p1, p2 in zip(style_patches_lists1[0], style_patches_lists2[0]):\n",
    "    if not torch.eq(p1,p2).all():\n",
    "        style1_different_patches.append(p1)\n",
    "        style2_different_patches.append(p2)"
   ]
  },
  {
   "cell_type": "code",
   "execution_count": 64,
   "metadata": {},
   "outputs": [
    {
     "data": {
      "text/plain": [
       "(3481, 663)"
      ]
     },
     "execution_count": 64,
     "metadata": {},
     "output_type": "execute_result"
    }
   ],
   "source": [
    "len(style_patches_lists1[0]), len(style1_different_patches)"
   ]
  },
  {
   "cell_type": "markdown",
   "metadata": {},
   "source": [
    "Finding difference between all corresponding patches"
   ]
  },
  {
   "cell_type": "code",
   "execution_count": 75,
   "metadata": {},
   "outputs": [],
   "source": [
    "a = [p1-p2 for p1,p2 in zip(style_patches_lists1[0],style_patches_lists2[0])]\n",
    "b = [p1-p2 for p1,p2 in zip(style_patches_lists1[1],style_patches_lists2[1])]"
   ]
  },
  {
   "cell_type": "code",
   "execution_count": 80,
   "metadata": {},
   "outputs": [
    {
     "data": {
      "text/plain": [
       "tensor(0., device='cuda:0')"
      ]
     },
     "execution_count": 80,
     "metadata": {},
     "output_type": "execute_result"
    }
   ],
   "source": [
    "nn.MSELoss()(a[0],a[0])"
   ]
  }
 ],
 "metadata": {
  "kernelspec": {
   "display_name": "Python 3",
   "language": "python",
   "name": "python3"
  },
  "language_info": {
   "codemirror_mode": {
    "name": "ipython",
    "version": 3
   },
   "file_extension": ".py",
   "mimetype": "text/x-python",
   "name": "python",
   "nbconvert_exporter": "python",
   "pygments_lexer": "ipython3",
   "version": "3.6.6"
  }
 },
 "nbformat": 4,
 "nbformat_minor": 2
}
